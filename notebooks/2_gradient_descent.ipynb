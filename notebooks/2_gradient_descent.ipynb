{
 "cells": [
  {
   "cell_type": "markdown",
   "id": "22dc8dc3",
   "metadata": {},
   "source": [
    "# Gradient descent on polynomial function\n",
    "\n",
    "This notebook uses gradient descent to find the minimum of polynomial function"
   ]
  },
  {
   "cell_type": "code",
   "execution_count": null,
   "id": "a725e235",
   "metadata": {},
   "outputs": [],
   "source": [
    "import numpy as np\n",
    "from src.gradient_descent import GradientDescent\n",
    "from src.utils.polynomial import MultivariatePolynomialOptimizable, MultivariatePolynomialVisualizer"
   ]
  },
  {
   "cell_type": "markdown",
   "id": "042d9d0f",
   "metadata": {},
   "source": [
    "### Test on polynomes with 2 variables"
   ]
  },
  {
   "cell_type": "code",
   "execution_count": null,
   "id": "41409e4d",
   "metadata": {},
   "outputs": [],
   "source": [
    "# Test 2D Polynomial - f(x, y) = 2x² + y²\n",
    "\n",
    "polynome_dictionary_2d = {\n",
    "    (2, 0): 2,  # 2x²\n",
    "    (0, 2): 1,  # y²\n",
    "}\n",
    "\n",
    "initial_parameters_2d = np.array([2.0, 2.0])\n",
    "\n",
    "polynome_2d = MultivariatePolynomialOptimizable(polynome_dictionary_2d, initial_parameters_2d)\n",
    "\n",
    "gd_2d = GradientDescent(\n",
    "    learning_rate=0.1,\n",
    "    max_iterations=100,\n",
    "    optimizable=polynome_2d,\n",
    "    tolerance=1e-6\n",
    ")\n",
    "\n",
    "result_2d = gd_2d.find_optimal()\n",
    "print(\"2D Polynomial Optimization Result:\")\n",
    "print(\"Optimal Parameters:\", result_2d[0])\n",
    "print(\"Function Value at Optimum:\", result_2d[1])"
   ]
  },
  {
   "cell_type": "markdown",
   "id": "4c2a8965",
   "metadata": {},
   "source": [
    "### Test on polynomes with 3 variables"
   ]
  },
  {
   "cell_type": "code",
   "execution_count": null,
   "id": "2a16364a",
   "metadata": {},
   "outputs": [],
   "source": [
    "# Test 3 variables polynome f(x,y,z) = (x²)(z²) -2x²y + 3y²z -y² + z² -y²z³\n",
    "\n",
    "polynome_dictionary_3d = {\n",
    "    (2, 0, 2): 1,   # (x²)(z²)\n",
    "    (2, 1, 0): -2,  # -2x²y\n",
    "    (0, 2, 1): 3,   # 3y²z\n",
    "    (0, 2, 0): -1,  # -y²\n",
    "    (0, 0, 2): 1,   # z²\n",
    "    (0, 2, 3): -1   # -y²z³\n",
    "}\n",
    "\n",
    "initial_parameters_3d = np.array([0.5, 1.0, 1.0])\n",
    "\n",
    "polynome_3d = MultivariatePolynomialOptimizable(polynome_dictionary_3d, initial_parameters_3d)\n",
    "\n",
    "gd_3d = GradientDescent(\n",
    "    learning_rate=0.001,\n",
    "    max_iterations=200,\n",
    "    optimizable=polynome_3d,\n",
    "    tolerance=1e-6\n",
    ")\n",
    "\n",
    "result_3d = gd_3d.find_optimal()\n",
    "print(\"\\n3D Polynomial Optimization Result:\")\n",
    "print(\"Optimal Parameters:\", result_3d[0])\n",
    "print(\"Function Value at Optimum:\", result_3d[1])\n"
   ]
  },
  {
   "cell_type": "markdown",
   "id": "544660f7",
   "metadata": {},
   "source": [
    "### Visualize gradient descent in 3d graph"
   ]
  },
  {
   "cell_type": "code",
   "execution_count": null,
   "id": "9ade7f99",
   "metadata": {},
   "outputs": [],
   "source": [
    "# Visualize gradient descent 2 variables function\n",
    "\n",
    "polynome_2d = MultivariatePolynomialOptimizable(polynome_dictionary_2d, initial_parameters_2d)\n",
    "\n",
    "visualizer = MultivariatePolynomialVisualizer(\n",
    "    optimizable=polynome_2d,\n",
    "    learning_rate=0.1,\n",
    "    x_range=(-3, 3),\n",
    "    y_range=(-3, 3),\n",
    "    z_range=(-20, 20),\n",
    "    x_step=1,\n",
    "    y_step=1,\n",
    "    z_step=5,\n",
    "    quality=\"medium_quality\"\n",
    ")\n",
    "\n",
    "gd_with_vis = GradientDescent(\n",
    "    learning_rate=0.1,\n",
    "    max_iterations=8,\n",
    "    optimizable=polynome_2d,\n",
    "    tolerance=1e-6,\n",
    "    visualizer=visualizer\n",
    ")\n",
    "\n",
    "\n",
    "result_vis = gd_with_vis.find_optimal()"
   ]
  },
  {
   "cell_type": "markdown",
   "id": "58a81f01",
   "metadata": {},
   "source": [
    "### Visualize gradient descent in 2d graph"
   ]
  },
  {
   "cell_type": "code",
   "execution_count": null,
   "id": "2b5c0682",
   "metadata": {},
   "outputs": [],
   "source": [
    "# Visualize gradient descent 1 variable function\n",
    "\n",
    "polynome_dic_1d = {\n",
    "    (4,): 1,     # x⁴\n",
    "    (3,): -4,    # -4x³\n",
    "    (2,): -3,    # -3x²\n",
    "    (1,): 2,     # 2x\n",
    "    (0,): 1      # constant term\n",
    "}\n",
    "\n",
    "initial_parameters_1d = np.array([2])\n",
    "\n",
    "optimizable = MultivariatePolynomialOptimizable(polynome_dic_1d, initial_parameters_1d)\n",
    "visualizer = MultivariatePolynomialVisualizer(\n",
    "    optimizable,\n",
    "    learning_rate=0.01,\n",
    "    x_range=(-5, 5),\n",
    "    y_range=(-50,50),\n",
    "    z_range=(-100,100),\n",
    "    x_step=1,\n",
    "    y_step=50,\n",
    "    z_step=50,\n",
    "    quality=\"medium_quality\"\n",
    ")\n",
    "\n",
    "\n",
    "gd_with_vis = GradientDescent(\n",
    "    learning_rate=0.01, \n",
    "    max_iterations=8, \n",
    "    optimizable=optimizable, \n",
    "    tolerance=1e-6, \n",
    "    visualizer=visualizer\n",
    ")\n",
    "\n",
    "result = gd_with_vis.find_optimal()\n",
    "\n",
    "\n"
   ]
  }
 ],
 "metadata": {
  "kernelspec": {
   "display_name": "venv",
   "language": "python",
   "name": "python3"
  },
  "language_info": {
   "codemirror_mode": {
    "name": "ipython",
    "version": 3
   },
   "file_extension": ".py",
   "mimetype": "text/x-python",
   "name": "python",
   "nbconvert_exporter": "python",
   "pygments_lexer": "ipython3",
   "version": "3.12.8"
  }
 },
 "nbformat": 4,
 "nbformat_minor": 5
}
