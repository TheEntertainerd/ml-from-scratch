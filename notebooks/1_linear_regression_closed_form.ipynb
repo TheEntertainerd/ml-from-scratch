{
 "cells": [
  {
   "cell_type": "markdown",
   "metadata": {},
   "source": [
    "# Linear Regression on NBA dataset\n",
    "\n",
    "This notebook uses linear regression to predict the weight based on the height, based on a dataset of NBA players. First with the classic sklearn library, then with the class defined in src/linear_regression.py\n"
   ]
  },
  {
   "cell_type": "code",
   "execution_count": null,
   "metadata": {},
   "outputs": [],
   "source": [
    "import numpy as np\n",
    "import pandas as pd\n",
    "from sklearn.linear_model import LinearRegression as LinearRegressionSklearn\n",
    "import sys\n",
    "import time\n",
    "sys.path.insert(0, '../src')\n",
    "from linear_regression import LinearRegression as LinearRegressionNumpy\n",
    "\n",
    "\n",
    "nba_df=pd.read_csv('../data/csv/nba.csv')\n"
   ]
  },
  {
   "cell_type": "code",
   "execution_count": null,
   "metadata": {},
   "outputs": [],
   "source": [
    "nba_df"
   ]
  },
  {
   "cell_type": "markdown",
   "metadata": {},
   "source": [
    "## Fit the model on 5 random players to compare values"
   ]
  },
  {
   "cell_type": "code",
   "execution_count": null,
   "metadata": {},
   "outputs": [],
   "source": [
    "NB_PLAYERS_TRAIN = 5\n",
    "\n",
    "random_players = nba_df.sample(n=NB_PLAYERS_TRAIN, random_state=42)\n",
    "\n",
    "heights_train= np.array(random_players['HT']).reshape(-1,1)/100 \n",
    "weights_train= np.array(random_players['WT']).reshape(-1,1)/100\n",
    "\n",
    "print(heights_train,weights_train)"
   ]
  },
  {
   "cell_type": "markdown",
   "metadata": {},
   "source": [
    "### With sklearn"
   ]
  },
  {
   "cell_type": "code",
   "execution_count": null,
   "metadata": {},
   "outputs": [],
   "source": [
    "lr_sklearn = LinearRegressionSklearn(fit_intercept=True)\n",
    "\n",
    "lr_sklearn.fit(heights_train, weights_train)\n",
    "coef_sklearn, intercept_sklearn = lr_sklearn.coef_, lr_sklearn.intercept_\n",
    "score_sklearn = lr_sklearn.score(heights_train,weights_train)"
   ]
  },
  {
   "cell_type": "markdown",
   "metadata": {},
   "source": [
    "### With numpy"
   ]
  },
  {
   "cell_type": "code",
   "execution_count": null,
   "metadata": {},
   "outputs": [],
   "source": [
    "lr_numpy = LinearRegressionNumpy(fit_intercept=True)\n",
    "\n",
    "lr_numpy.fit(heights_train, weights_train)\n",
    "coef_numpy, intercept_numpy = lr_numpy.weights\n",
    "score_numpy = lr_numpy.r2_score(heights_train,weights_train)"
   ]
  },
  {
   "cell_type": "markdown",
   "metadata": {},
   "source": [
    "### Compare differences"
   ]
  },
  {
   "cell_type": "code",
   "execution_count": null,
   "metadata": {},
   "outputs": [],
   "source": [
    "print(coef_numpy, coef_sklearn)"
   ]
  },
  {
   "cell_type": "code",
   "execution_count": null,
   "metadata": {},
   "outputs": [],
   "source": [
    "print(intercept_numpy,intercept_sklearn)"
   ]
  },
  {
   "cell_type": "code",
   "execution_count": null,
   "metadata": {},
   "outputs": [],
   "source": [
    "print(score_numpy,score_sklearn)"
   ]
  },
  {
   "cell_type": "markdown",
   "metadata": {},
   "source": [
    "### Visualize the regression"
   ]
  },
  {
   "cell_type": "code",
   "execution_count": null,
   "metadata": {},
   "outputs": [],
   "source": [
    "lr_numpy.fit_and_animate(heights_train, weights_train)\n"
   ]
  },
  {
   "cell_type": "code",
   "execution_count": null,
   "metadata": {},
   "outputs": [],
   "source": []
  }
 ],
 "metadata": {
  "kernelspec": {
   "display_name": "venv",
   "language": "python",
   "name": "python3"
  },
  "language_info": {
   "codemirror_mode": {
    "name": "ipython",
    "version": 3
   },
   "file_extension": ".py",
   "mimetype": "text/x-python",
   "name": "python",
   "nbconvert_exporter": "python",
   "pygments_lexer": "ipython3",
   "version": "3.12.8"
  }
 },
 "nbformat": 4,
 "nbformat_minor": 2
}
